{
  "nbformat": 4,
  "nbformat_minor": 0,
  "metadata": {
    "colab": {
      "provenance": [],
      "authorship_tag": "ABX9TyNCRMWlIYpY6VBH66VtjS4+",
      "include_colab_link": true
    },
    "kernelspec": {
      "name": "python3",
      "display_name": "Python 3"
    },
    "language_info": {
      "name": "python"
    }
  },
  "cells": [
    {
      "cell_type": "markdown",
      "metadata": {
        "id": "view-in-github",
        "colab_type": "text"
      },
      "source": [
        "<a href=\"https://colab.research.google.com/github/Kei-Kobayash/multiple_smiles/blob/main/LSM_smile2023.ipynb\" target=\"_parent\"><img src=\"https://colab.research.google.com/assets/colab-badge.svg\" alt=\"Open In Colab\"/></a>"
      ]
    },
    {
      "cell_type": "markdown",
      "source": [
        "#Least squares method (smile # 2023)\n"
      ],
      "metadata": {
        "id": "CJfmRWbsgLan"
      }
    },
    {
      "cell_type": "code",
      "execution_count": null,
      "metadata": {
        "id": "YHlCfsIefz1y"
      },
      "outputs": [],
      "source": [
        "import pandas as pd\n",
        "import numpy as np\n",
        "import matplotlib.pyplot as plt\n",
        "from sklearn import linear_model\n",
        "\n",
        "model = linear_model.LinearRegression()\n",
        "\n",
        "df = pd.read_csv(\"lsm_smile2023.csv\")\n",
        "\n",
        "#\n",
        "coef_results = []\n",
        "intercept_results = []\n",
        "\n",
        "# row: participant, column: number (0, 1, 2, 3)\n",
        "\n",
        "\"\"\"\n",
        "x = [0, 1, 2, 3]\n",
        "y = [data]\n",
        "\n",
        "model.fit(x, y)\n",
        "print(model., coef_, model.intercept_)\n",
        "\"\"\"\n",
        "\n",
        "participants = n\n",
        "\n",
        "for participant in participants:\n",
        "  df[]\n"
      ]
    }
  ]
}