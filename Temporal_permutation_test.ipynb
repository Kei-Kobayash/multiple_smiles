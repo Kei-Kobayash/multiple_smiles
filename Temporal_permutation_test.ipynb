{
  "nbformat": 4,
  "nbformat_minor": 0,
  "metadata": {
    "colab": {
      "provenance": [],
      "authorship_tag": "ABX9TyNaVf93DbOukVNSqM+7X55h",
      "include_colab_link": true
    },
    "kernelspec": {
      "name": "python3",
      "display_name": "Python 3"
    },
    "language_info": {
      "name": "python"
    },
    "widgets": {
      "application/vnd.jupyter.widget-state+json": {
        "c9c23a36ef07427494b03e48fa5edcc3": {
          "model_module": "@jupyter-widgets/controls",
          "model_name": "HBoxModel",
          "model_module_version": "1.5.0",
          "state": {
            "_dom_classes": [],
            "_model_module": "@jupyter-widgets/controls",
            "_model_module_version": "1.5.0",
            "_model_name": "HBoxModel",
            "_view_count": null,
            "_view_module": "@jupyter-widgets/controls",
            "_view_module_version": "1.5.0",
            "_view_name": "HBoxView",
            "box_style": "",
            "children": [
              "IPY_MODEL_dae86bca64bc484b9c6ab293a62fbee6",
              "IPY_MODEL_d22d9b814b344e2caea7c60863ec03c1",
              "IPY_MODEL_52a307cd5db547a28def2c696591e78c"
            ],
            "layout": "IPY_MODEL_281b5b65f88c4daab602121a80dd5050"
          }
        },
        "dae86bca64bc484b9c6ab293a62fbee6": {
          "model_module": "@jupyter-widgets/controls",
          "model_name": "HTMLModel",
          "model_module_version": "1.5.0",
          "state": {
            "_dom_classes": [],
            "_model_module": "@jupyter-widgets/controls",
            "_model_module_version": "1.5.0",
            "_model_name": "HTMLModel",
            "_view_count": null,
            "_view_module": "@jupyter-widgets/controls",
            "_view_module_version": "1.5.0",
            "_view_name": "HTMLView",
            "description": "",
            "description_tooltip": null,
            "layout": "IPY_MODEL_27205b5b57334e12a2b8ccda029494d9",
            "placeholder": "​",
            "style": "IPY_MODEL_e6e9f5327080400b8e73e6988402fcb0",
            "value": "100%"
          }
        },
        "d22d9b814b344e2caea7c60863ec03c1": {
          "model_module": "@jupyter-widgets/controls",
          "model_name": "FloatProgressModel",
          "model_module_version": "1.5.0",
          "state": {
            "_dom_classes": [],
            "_model_module": "@jupyter-widgets/controls",
            "_model_module_version": "1.5.0",
            "_model_name": "FloatProgressModel",
            "_view_count": null,
            "_view_module": "@jupyter-widgets/controls",
            "_view_module_version": "1.5.0",
            "_view_name": "ProgressView",
            "bar_style": "success",
            "description": "",
            "description_tooltip": null,
            "layout": "IPY_MODEL_de42464c02684c5f90fda23d2da0debe",
            "max": 9,
            "min": 0,
            "orientation": "horizontal",
            "style": "IPY_MODEL_64ce946ae47e41839ea86c84d4366742",
            "value": 9
          }
        },
        "52a307cd5db547a28def2c696591e78c": {
          "model_module": "@jupyter-widgets/controls",
          "model_name": "HTMLModel",
          "model_module_version": "1.5.0",
          "state": {
            "_dom_classes": [],
            "_model_module": "@jupyter-widgets/controls",
            "_model_module_version": "1.5.0",
            "_model_name": "HTMLModel",
            "_view_count": null,
            "_view_module": "@jupyter-widgets/controls",
            "_view_module_version": "1.5.0",
            "_view_name": "HTMLView",
            "description": "",
            "description_tooltip": null,
            "layout": "IPY_MODEL_6c8bf4234b17464b9bff1d4a5cff66a1",
            "placeholder": "​",
            "style": "IPY_MODEL_85a70ec5976a4c2b96596d56bf20ca0d",
            "value": " Permuting : 9/9 [00:00&lt;00:00,  222.04it/s]"
          }
        },
        "281b5b65f88c4daab602121a80dd5050": {
          "model_module": "@jupyter-widgets/base",
          "model_name": "LayoutModel",
          "model_module_version": "1.2.0",
          "state": {
            "_model_module": "@jupyter-widgets/base",
            "_model_module_version": "1.2.0",
            "_model_name": "LayoutModel",
            "_view_count": null,
            "_view_module": "@jupyter-widgets/base",
            "_view_module_version": "1.2.0",
            "_view_name": "LayoutView",
            "align_content": null,
            "align_items": null,
            "align_self": null,
            "border": null,
            "bottom": null,
            "display": null,
            "flex": null,
            "flex_flow": null,
            "grid_area": null,
            "grid_auto_columns": null,
            "grid_auto_flow": null,
            "grid_auto_rows": null,
            "grid_column": null,
            "grid_gap": null,
            "grid_row": null,
            "grid_template_areas": null,
            "grid_template_columns": null,
            "grid_template_rows": null,
            "height": null,
            "justify_content": null,
            "justify_items": null,
            "left": null,
            "margin": null,
            "max_height": null,
            "max_width": null,
            "min_height": null,
            "min_width": null,
            "object_fit": null,
            "object_position": null,
            "order": null,
            "overflow": null,
            "overflow_x": null,
            "overflow_y": null,
            "padding": null,
            "right": null,
            "top": null,
            "visibility": null,
            "width": null
          }
        },
        "27205b5b57334e12a2b8ccda029494d9": {
          "model_module": "@jupyter-widgets/base",
          "model_name": "LayoutModel",
          "model_module_version": "1.2.0",
          "state": {
            "_model_module": "@jupyter-widgets/base",
            "_model_module_version": "1.2.0",
            "_model_name": "LayoutModel",
            "_view_count": null,
            "_view_module": "@jupyter-widgets/base",
            "_view_module_version": "1.2.0",
            "_view_name": "LayoutView",
            "align_content": null,
            "align_items": null,
            "align_self": null,
            "border": null,
            "bottom": null,
            "display": null,
            "flex": null,
            "flex_flow": null,
            "grid_area": null,
            "grid_auto_columns": null,
            "grid_auto_flow": null,
            "grid_auto_rows": null,
            "grid_column": null,
            "grid_gap": null,
            "grid_row": null,
            "grid_template_areas": null,
            "grid_template_columns": null,
            "grid_template_rows": null,
            "height": null,
            "justify_content": null,
            "justify_items": null,
            "left": null,
            "margin": null,
            "max_height": null,
            "max_width": null,
            "min_height": null,
            "min_width": null,
            "object_fit": null,
            "object_position": null,
            "order": null,
            "overflow": null,
            "overflow_x": null,
            "overflow_y": null,
            "padding": null,
            "right": null,
            "top": null,
            "visibility": null,
            "width": null
          }
        },
        "e6e9f5327080400b8e73e6988402fcb0": {
          "model_module": "@jupyter-widgets/controls",
          "model_name": "DescriptionStyleModel",
          "model_module_version": "1.5.0",
          "state": {
            "_model_module": "@jupyter-widgets/controls",
            "_model_module_version": "1.5.0",
            "_model_name": "DescriptionStyleModel",
            "_view_count": null,
            "_view_module": "@jupyter-widgets/base",
            "_view_module_version": "1.2.0",
            "_view_name": "StyleView",
            "description_width": ""
          }
        },
        "de42464c02684c5f90fda23d2da0debe": {
          "model_module": "@jupyter-widgets/base",
          "model_name": "LayoutModel",
          "model_module_version": "1.2.0",
          "state": {
            "_model_module": "@jupyter-widgets/base",
            "_model_module_version": "1.2.0",
            "_model_name": "LayoutModel",
            "_view_count": null,
            "_view_module": "@jupyter-widgets/base",
            "_view_module_version": "1.2.0",
            "_view_name": "LayoutView",
            "align_content": null,
            "align_items": null,
            "align_self": null,
            "border": null,
            "bottom": null,
            "display": null,
            "flex": null,
            "flex_flow": null,
            "grid_area": null,
            "grid_auto_columns": null,
            "grid_auto_flow": null,
            "grid_auto_rows": null,
            "grid_column": null,
            "grid_gap": null,
            "grid_row": null,
            "grid_template_areas": null,
            "grid_template_columns": null,
            "grid_template_rows": null,
            "height": null,
            "justify_content": null,
            "justify_items": null,
            "left": null,
            "margin": null,
            "max_height": null,
            "max_width": null,
            "min_height": null,
            "min_width": null,
            "object_fit": null,
            "object_position": null,
            "order": null,
            "overflow": null,
            "overflow_x": null,
            "overflow_y": null,
            "padding": null,
            "right": null,
            "top": null,
            "visibility": null,
            "width": null
          }
        },
        "64ce946ae47e41839ea86c84d4366742": {
          "model_module": "@jupyter-widgets/controls",
          "model_name": "ProgressStyleModel",
          "model_module_version": "1.5.0",
          "state": {
            "_model_module": "@jupyter-widgets/controls",
            "_model_module_version": "1.5.0",
            "_model_name": "ProgressStyleModel",
            "_view_count": null,
            "_view_module": "@jupyter-widgets/base",
            "_view_module_version": "1.2.0",
            "_view_name": "StyleView",
            "bar_color": null,
            "description_width": ""
          }
        },
        "6c8bf4234b17464b9bff1d4a5cff66a1": {
          "model_module": "@jupyter-widgets/base",
          "model_name": "LayoutModel",
          "model_module_version": "1.2.0",
          "state": {
            "_model_module": "@jupyter-widgets/base",
            "_model_module_version": "1.2.0",
            "_model_name": "LayoutModel",
            "_view_count": null,
            "_view_module": "@jupyter-widgets/base",
            "_view_module_version": "1.2.0",
            "_view_name": "LayoutView",
            "align_content": null,
            "align_items": null,
            "align_self": null,
            "border": null,
            "bottom": null,
            "display": null,
            "flex": null,
            "flex_flow": null,
            "grid_area": null,
            "grid_auto_columns": null,
            "grid_auto_flow": null,
            "grid_auto_rows": null,
            "grid_column": null,
            "grid_gap": null,
            "grid_row": null,
            "grid_template_areas": null,
            "grid_template_columns": null,
            "grid_template_rows": null,
            "height": null,
            "justify_content": null,
            "justify_items": null,
            "left": null,
            "margin": null,
            "max_height": null,
            "max_width": null,
            "min_height": null,
            "min_width": null,
            "object_fit": null,
            "object_position": null,
            "order": null,
            "overflow": null,
            "overflow_x": null,
            "overflow_y": null,
            "padding": null,
            "right": null,
            "top": null,
            "visibility": null,
            "width": null
          }
        },
        "85a70ec5976a4c2b96596d56bf20ca0d": {
          "model_module": "@jupyter-widgets/controls",
          "model_name": "DescriptionStyleModel",
          "model_module_version": "1.5.0",
          "state": {
            "_model_module": "@jupyter-widgets/controls",
            "_model_module_version": "1.5.0",
            "_model_name": "DescriptionStyleModel",
            "_view_count": null,
            "_view_module": "@jupyter-widgets/base",
            "_view_module_version": "1.2.0",
            "_view_name": "StyleView",
            "description_width": ""
          }
        }
      }
    }
  },
  "cells": [
    {
      "cell_type": "markdown",
      "metadata": {
        "id": "view-in-github",
        "colab_type": "text"
      },
      "source": [
        "<a href=\"https://colab.research.google.com/github/Kei-Kobayash/multiple_smiles/blob/main/Temporal_permutation_test.ipynb\" target=\"_parent\"><img src=\"https://colab.research.google.com/assets/colab-badge.svg\" alt=\"Open In Colab\"/></a>"
      ]
    },
    {
      "cell_type": "markdown",
      "source": [
        "# Temporal permutation test"
      ],
      "metadata": {
        "id": "S4rhj1UO5HwH"
      }
    },
    {
      "cell_type": "markdown",
      "source": [
        "ある一つの電極に関して、時間帯を決める\n"
      ],
      "metadata": {
        "id": "HfyQJCho5dd6"
      }
    },
    {
      "cell_type": "markdown",
      "source": [
        "## Importing libraries"
      ],
      "metadata": {
        "id": "OWu8uRo25Pnc"
      }
    },
    {
      "cell_type": "code",
      "execution_count": null,
      "metadata": {
        "id": "wm3KNvLD5BOD"
      },
      "outputs": [],
      "source": [
        "!pip install mne"
      ]
    },
    {
      "cell_type": "code",
      "source": [
        "import pandas as pd\n",
        "import numpy as np\n",
        "import matplotlib.pyplot as plt\n",
        "import os\n",
        "import mne"
      ],
      "metadata": {
        "id": "rEvEj5Xn5PBw"
      },
      "execution_count": 2,
      "outputs": []
    },
    {
      "cell_type": "markdown",
      "source": [
        "## Importing data and create df"
      ],
      "metadata": {
        "id": "IiQ3BlHQ5SHp"
      }
    },
    {
      "cell_type": "code",
      "source": [
        "# Participants list\n",
        "\n",
        "last_par_num = 10\n",
        "excluded_pars = [\"s2\", \"s4\"]\n",
        "\n",
        "participants = []\n",
        "\n",
        "for n in range(1, last_par_num+1):\n",
        "  participants.append(\"s\" + str(n))\n",
        "\n",
        "for excluded_par in excluded_pars:\n",
        "  participants.remove(excluded_par)\n",
        "\n",
        "print(participants)\n",
        "\n",
        "\n",
        "# Importing participants' csv\n",
        "\n",
        "for par, n in zip(participants, range(1, len(participants))):\n",
        "  df = pd.read_csv(par + \".csv\")\n",
        "  df[n] = df"
      ],
      "metadata": {
        "id": "fwo3SggK5US7"
      },
      "execution_count": null,
      "outputs": []
    },
    {
      "cell_type": "markdown",
      "source": [
        "## Demo data"
      ],
      "metadata": {
        "id": "65DkmT035qDs"
      }
    },
    {
      "cell_type": "code",
      "source": [
        "# Example data (participant = 10, time points = 100)\n",
        "condition_1_demo_data = np.random.normal(loc=0, scale=1, size=(10, 100))\n",
        "condition_2_demo_data = np.random.normal(loc=0.5, scale=1, size=(10, 100))"
      ],
      "metadata": {
        "id": "TVLX5egi5rnc"
      },
      "execution_count": 3,
      "outputs": []
    },
    {
      "cell_type": "code",
      "source": [
        "print(condition_1_demo_data[:3, :5])\n",
        "print(condition_2_demo_data[:3, :5])"
      ],
      "metadata": {
        "colab": {
          "base_uri": "https://localhost:8080/"
        },
        "id": "RhFMf1o48r89",
        "outputId": "952f76d3-94cf-4965-9f11-026039df3d07"
      },
      "execution_count": 4,
      "outputs": [
        {
          "output_type": "stream",
          "name": "stdout",
          "text": [
            "[[ 0.6213219   0.20614505  0.677279   -0.37595505 -0.22890776]\n",
            " [-0.58080206  1.22091356  0.74757423 -0.14205954  0.13182287]\n",
            " [-0.5510803   0.68018231  0.19067202 -0.12811555  0.76899429]]\n",
            "[[ 1.42670009  0.80567151  0.0323269   0.92640265  0.19508717]\n",
            " [-0.43332709  0.7083388   0.8264606  -1.53468487 -1.30530051]\n",
            " [ 0.15441048  0.312076   -0.1779139  -0.56451589  0.66952885]]\n"
          ]
        }
      ]
    },
    {
      "cell_type": "markdown",
      "source": [
        "## More realistic demo data"
      ],
      "metadata": {
        "id": "gkI9mkA4mnQK"
      }
    },
    {
      "cell_type": "code",
      "source": [
        "df_demo = pd.read_csv(\"smile_ERP_wo_s10.csv\")\n",
        "df_demo.head()"
      ],
      "metadata": {
        "colab": {
          "base_uri": "https://localhost:8080/",
          "height": 256
        },
        "id": "pVUGsxFHmcS7",
        "outputId": "9844e426-25e4-4db8-bf2e-a5682146358e"
      },
      "execution_count": 4,
      "outputs": [
        {
          "output_type": "execute_result",
          "data": {
            "text/plain": [
              "   time  chair_P7  chair_P8  smile0_P7  smile0_P8  smile1_P7  smile1_P8  \\\n",
              "0  -100    0.1536    0.0204     0.2574     0.1986     0.2169     0.0775   \n",
              "1   -96    0.1495    0.0896     0.2819     0.2422     0.2526     0.1038   \n",
              "2   -92    0.1524    0.1686     0.3001     0.2873     0.2884     0.1372   \n",
              "3   -88    0.1615    0.2553     0.3055     0.3239     0.3212     0.1708   \n",
              "4   -84    0.1733    0.3408     0.2939     0.3406     0.3483     0.1981   \n",
              "\n",
              "   smile2_P7  smile2_P8  smile3_P7  ...  chair_PO7  chair_PO8  smile0_PO7  \\\n",
              "0     0.1037    -0.0602     0.2317  ...     0.0107     0.0569      0.2981   \n",
              "1     0.1089    -0.0284     0.2074  ...     0.0112     0.1657      0.3390   \n",
              "2     0.0993     0.0020     0.1706  ...     0.0215     0.2702      0.3752   \n",
              "3     0.0783     0.0244     0.1269  ...     0.0433     0.3658      0.3979   \n",
              "4     0.0525     0.0345     0.0842  ...     0.0755     0.4471      0.3981   \n",
              "\n",
              "   smile0_PO8  smile1_PO7  smile1_PO8  smile2_PO7  smile2_PO8  smile3_PO7  \\\n",
              "0      0.1433      0.1324      0.0104      0.0447     -0.1433      0.1859   \n",
              "1      0.1671      0.1870      0.0732      0.0502     -0.0773      0.1688   \n",
              "2      0.2017      0.2508      0.1461      0.0411     -0.0188      0.1415   \n",
              "3      0.2401      0.3174      0.2162      0.0241      0.0200      0.1048   \n",
              "4      0.2714      0.3795      0.2711      0.0075      0.0336      0.0621   \n",
              "\n",
              "   smile3_PO8  \n",
              "0      0.1389  \n",
              "1      0.1381  \n",
              "2      0.1325  \n",
              "3      0.1271  \n",
              "4      0.1261  \n",
              "\n",
              "[5 rows x 21 columns]"
            ],
            "text/html": [
              "\n",
              "  <div id=\"df-8dfa6f08-80f6-4f46-b919-eff79dc63135\" class=\"colab-df-container\">\n",
              "    <div>\n",
              "<style scoped>\n",
              "    .dataframe tbody tr th:only-of-type {\n",
              "        vertical-align: middle;\n",
              "    }\n",
              "\n",
              "    .dataframe tbody tr th {\n",
              "        vertical-align: top;\n",
              "    }\n",
              "\n",
              "    .dataframe thead th {\n",
              "        text-align: right;\n",
              "    }\n",
              "</style>\n",
              "<table border=\"1\" class=\"dataframe\">\n",
              "  <thead>\n",
              "    <tr style=\"text-align: right;\">\n",
              "      <th></th>\n",
              "      <th>time</th>\n",
              "      <th>chair_P7</th>\n",
              "      <th>chair_P8</th>\n",
              "      <th>smile0_P7</th>\n",
              "      <th>smile0_P8</th>\n",
              "      <th>smile1_P7</th>\n",
              "      <th>smile1_P8</th>\n",
              "      <th>smile2_P7</th>\n",
              "      <th>smile2_P8</th>\n",
              "      <th>smile3_P7</th>\n",
              "      <th>...</th>\n",
              "      <th>chair_PO7</th>\n",
              "      <th>chair_PO8</th>\n",
              "      <th>smile0_PO7</th>\n",
              "      <th>smile0_PO8</th>\n",
              "      <th>smile1_PO7</th>\n",
              "      <th>smile1_PO8</th>\n",
              "      <th>smile2_PO7</th>\n",
              "      <th>smile2_PO8</th>\n",
              "      <th>smile3_PO7</th>\n",
              "      <th>smile3_PO8</th>\n",
              "    </tr>\n",
              "  </thead>\n",
              "  <tbody>\n",
              "    <tr>\n",
              "      <th>0</th>\n",
              "      <td>-100</td>\n",
              "      <td>0.1536</td>\n",
              "      <td>0.0204</td>\n",
              "      <td>0.2574</td>\n",
              "      <td>0.1986</td>\n",
              "      <td>0.2169</td>\n",
              "      <td>0.0775</td>\n",
              "      <td>0.1037</td>\n",
              "      <td>-0.0602</td>\n",
              "      <td>0.2317</td>\n",
              "      <td>...</td>\n",
              "      <td>0.0107</td>\n",
              "      <td>0.0569</td>\n",
              "      <td>0.2981</td>\n",
              "      <td>0.1433</td>\n",
              "      <td>0.1324</td>\n",
              "      <td>0.0104</td>\n",
              "      <td>0.0447</td>\n",
              "      <td>-0.1433</td>\n",
              "      <td>0.1859</td>\n",
              "      <td>0.1389</td>\n",
              "    </tr>\n",
              "    <tr>\n",
              "      <th>1</th>\n",
              "      <td>-96</td>\n",
              "      <td>0.1495</td>\n",
              "      <td>0.0896</td>\n",
              "      <td>0.2819</td>\n",
              "      <td>0.2422</td>\n",
              "      <td>0.2526</td>\n",
              "      <td>0.1038</td>\n",
              "      <td>0.1089</td>\n",
              "      <td>-0.0284</td>\n",
              "      <td>0.2074</td>\n",
              "      <td>...</td>\n",
              "      <td>0.0112</td>\n",
              "      <td>0.1657</td>\n",
              "      <td>0.3390</td>\n",
              "      <td>0.1671</td>\n",
              "      <td>0.1870</td>\n",
              "      <td>0.0732</td>\n",
              "      <td>0.0502</td>\n",
              "      <td>-0.0773</td>\n",
              "      <td>0.1688</td>\n",
              "      <td>0.1381</td>\n",
              "    </tr>\n",
              "    <tr>\n",
              "      <th>2</th>\n",
              "      <td>-92</td>\n",
              "      <td>0.1524</td>\n",
              "      <td>0.1686</td>\n",
              "      <td>0.3001</td>\n",
              "      <td>0.2873</td>\n",
              "      <td>0.2884</td>\n",
              "      <td>0.1372</td>\n",
              "      <td>0.0993</td>\n",
              "      <td>0.0020</td>\n",
              "      <td>0.1706</td>\n",
              "      <td>...</td>\n",
              "      <td>0.0215</td>\n",
              "      <td>0.2702</td>\n",
              "      <td>0.3752</td>\n",
              "      <td>0.2017</td>\n",
              "      <td>0.2508</td>\n",
              "      <td>0.1461</td>\n",
              "      <td>0.0411</td>\n",
              "      <td>-0.0188</td>\n",
              "      <td>0.1415</td>\n",
              "      <td>0.1325</td>\n",
              "    </tr>\n",
              "    <tr>\n",
              "      <th>3</th>\n",
              "      <td>-88</td>\n",
              "      <td>0.1615</td>\n",
              "      <td>0.2553</td>\n",
              "      <td>0.3055</td>\n",
              "      <td>0.3239</td>\n",
              "      <td>0.3212</td>\n",
              "      <td>0.1708</td>\n",
              "      <td>0.0783</td>\n",
              "      <td>0.0244</td>\n",
              "      <td>0.1269</td>\n",
              "      <td>...</td>\n",
              "      <td>0.0433</td>\n",
              "      <td>0.3658</td>\n",
              "      <td>0.3979</td>\n",
              "      <td>0.2401</td>\n",
              "      <td>0.3174</td>\n",
              "      <td>0.2162</td>\n",
              "      <td>0.0241</td>\n",
              "      <td>0.0200</td>\n",
              "      <td>0.1048</td>\n",
              "      <td>0.1271</td>\n",
              "    </tr>\n",
              "    <tr>\n",
              "      <th>4</th>\n",
              "      <td>-84</td>\n",
              "      <td>0.1733</td>\n",
              "      <td>0.3408</td>\n",
              "      <td>0.2939</td>\n",
              "      <td>0.3406</td>\n",
              "      <td>0.3483</td>\n",
              "      <td>0.1981</td>\n",
              "      <td>0.0525</td>\n",
              "      <td>0.0345</td>\n",
              "      <td>0.0842</td>\n",
              "      <td>...</td>\n",
              "      <td>0.0755</td>\n",
              "      <td>0.4471</td>\n",
              "      <td>0.3981</td>\n",
              "      <td>0.2714</td>\n",
              "      <td>0.3795</td>\n",
              "      <td>0.2711</td>\n",
              "      <td>0.0075</td>\n",
              "      <td>0.0336</td>\n",
              "      <td>0.0621</td>\n",
              "      <td>0.1261</td>\n",
              "    </tr>\n",
              "  </tbody>\n",
              "</table>\n",
              "<p>5 rows × 21 columns</p>\n",
              "</div>\n",
              "    <div class=\"colab-df-buttons\">\n",
              "\n",
              "  <div class=\"colab-df-container\">\n",
              "    <button class=\"colab-df-convert\" onclick=\"convertToInteractive('df-8dfa6f08-80f6-4f46-b919-eff79dc63135')\"\n",
              "            title=\"Convert this dataframe to an interactive table.\"\n",
              "            style=\"display:none;\">\n",
              "\n",
              "  <svg xmlns=\"http://www.w3.org/2000/svg\" height=\"24px\" viewBox=\"0 -960 960 960\">\n",
              "    <path d=\"M120-120v-720h720v720H120Zm60-500h600v-160H180v160Zm220 220h160v-160H400v160Zm0 220h160v-160H400v160ZM180-400h160v-160H180v160Zm440 0h160v-160H620v160ZM180-180h160v-160H180v160Zm440 0h160v-160H620v160Z\"/>\n",
              "  </svg>\n",
              "    </button>\n",
              "\n",
              "  <style>\n",
              "    .colab-df-container {\n",
              "      display:flex;\n",
              "      gap: 12px;\n",
              "    }\n",
              "\n",
              "    .colab-df-convert {\n",
              "      background-color: #E8F0FE;\n",
              "      border: none;\n",
              "      border-radius: 50%;\n",
              "      cursor: pointer;\n",
              "      display: none;\n",
              "      fill: #1967D2;\n",
              "      height: 32px;\n",
              "      padding: 0 0 0 0;\n",
              "      width: 32px;\n",
              "    }\n",
              "\n",
              "    .colab-df-convert:hover {\n",
              "      background-color: #E2EBFA;\n",
              "      box-shadow: 0px 1px 2px rgba(60, 64, 67, 0.3), 0px 1px 3px 1px rgba(60, 64, 67, 0.15);\n",
              "      fill: #174EA6;\n",
              "    }\n",
              "\n",
              "    .colab-df-buttons div {\n",
              "      margin-bottom: 4px;\n",
              "    }\n",
              "\n",
              "    [theme=dark] .colab-df-convert {\n",
              "      background-color: #3B4455;\n",
              "      fill: #D2E3FC;\n",
              "    }\n",
              "\n",
              "    [theme=dark] .colab-df-convert:hover {\n",
              "      background-color: #434B5C;\n",
              "      box-shadow: 0px 1px 3px 1px rgba(0, 0, 0, 0.15);\n",
              "      filter: drop-shadow(0px 1px 2px rgba(0, 0, 0, 0.3));\n",
              "      fill: #FFFFFF;\n",
              "    }\n",
              "  </style>\n",
              "\n",
              "    <script>\n",
              "      const buttonEl =\n",
              "        document.querySelector('#df-8dfa6f08-80f6-4f46-b919-eff79dc63135 button.colab-df-convert');\n",
              "      buttonEl.style.display =\n",
              "        google.colab.kernel.accessAllowed ? 'block' : 'none';\n",
              "\n",
              "      async function convertToInteractive(key) {\n",
              "        const element = document.querySelector('#df-8dfa6f08-80f6-4f46-b919-eff79dc63135');\n",
              "        const dataTable =\n",
              "          await google.colab.kernel.invokeFunction('convertToInteractive',\n",
              "                                                    [key], {});\n",
              "        if (!dataTable) return;\n",
              "\n",
              "        const docLinkHtml = 'Like what you see? Visit the ' +\n",
              "          '<a target=\"_blank\" href=https://colab.research.google.com/notebooks/data_table.ipynb>data table notebook</a>'\n",
              "          + ' to learn more about interactive tables.';\n",
              "        element.innerHTML = '';\n",
              "        dataTable['output_type'] = 'display_data';\n",
              "        await google.colab.output.renderOutput(dataTable, element);\n",
              "        const docLink = document.createElement('div');\n",
              "        docLink.innerHTML = docLinkHtml;\n",
              "        element.appendChild(docLink);\n",
              "      }\n",
              "    </script>\n",
              "  </div>\n",
              "\n",
              "\n",
              "<div id=\"df-d1f511e9-0c42-40ee-8313-da164b6062f4\">\n",
              "  <button class=\"colab-df-quickchart\" onclick=\"quickchart('df-d1f511e9-0c42-40ee-8313-da164b6062f4')\"\n",
              "            title=\"Suggest charts.\"\n",
              "            style=\"display:none;\">\n",
              "\n",
              "<svg xmlns=\"http://www.w3.org/2000/svg\" height=\"24px\"viewBox=\"0 0 24 24\"\n",
              "     width=\"24px\">\n",
              "    <g>\n",
              "        <path d=\"M19 3H5c-1.1 0-2 .9-2 2v14c0 1.1.9 2 2 2h14c1.1 0 2-.9 2-2V5c0-1.1-.9-2-2-2zM9 17H7v-7h2v7zm4 0h-2V7h2v10zm4 0h-2v-4h2v4z\"/>\n",
              "    </g>\n",
              "</svg>\n",
              "  </button>\n",
              "\n",
              "<style>\n",
              "  .colab-df-quickchart {\n",
              "      --bg-color: #E8F0FE;\n",
              "      --fill-color: #1967D2;\n",
              "      --hover-bg-color: #E2EBFA;\n",
              "      --hover-fill-color: #174EA6;\n",
              "      --disabled-fill-color: #AAA;\n",
              "      --disabled-bg-color: #DDD;\n",
              "  }\n",
              "\n",
              "  [theme=dark] .colab-df-quickchart {\n",
              "      --bg-color: #3B4455;\n",
              "      --fill-color: #D2E3FC;\n",
              "      --hover-bg-color: #434B5C;\n",
              "      --hover-fill-color: #FFFFFF;\n",
              "      --disabled-bg-color: #3B4455;\n",
              "      --disabled-fill-color: #666;\n",
              "  }\n",
              "\n",
              "  .colab-df-quickchart {\n",
              "    background-color: var(--bg-color);\n",
              "    border: none;\n",
              "    border-radius: 50%;\n",
              "    cursor: pointer;\n",
              "    display: none;\n",
              "    fill: var(--fill-color);\n",
              "    height: 32px;\n",
              "    padding: 0;\n",
              "    width: 32px;\n",
              "  }\n",
              "\n",
              "  .colab-df-quickchart:hover {\n",
              "    background-color: var(--hover-bg-color);\n",
              "    box-shadow: 0 1px 2px rgba(60, 64, 67, 0.3), 0 1px 3px 1px rgba(60, 64, 67, 0.15);\n",
              "    fill: var(--button-hover-fill-color);\n",
              "  }\n",
              "\n",
              "  .colab-df-quickchart-complete:disabled,\n",
              "  .colab-df-quickchart-complete:disabled:hover {\n",
              "    background-color: var(--disabled-bg-color);\n",
              "    fill: var(--disabled-fill-color);\n",
              "    box-shadow: none;\n",
              "  }\n",
              "\n",
              "  .colab-df-spinner {\n",
              "    border: 2px solid var(--fill-color);\n",
              "    border-color: transparent;\n",
              "    border-bottom-color: var(--fill-color);\n",
              "    animation:\n",
              "      spin 1s steps(1) infinite;\n",
              "  }\n",
              "\n",
              "  @keyframes spin {\n",
              "    0% {\n",
              "      border-color: transparent;\n",
              "      border-bottom-color: var(--fill-color);\n",
              "      border-left-color: var(--fill-color);\n",
              "    }\n",
              "    20% {\n",
              "      border-color: transparent;\n",
              "      border-left-color: var(--fill-color);\n",
              "      border-top-color: var(--fill-color);\n",
              "    }\n",
              "    30% {\n",
              "      border-color: transparent;\n",
              "      border-left-color: var(--fill-color);\n",
              "      border-top-color: var(--fill-color);\n",
              "      border-right-color: var(--fill-color);\n",
              "    }\n",
              "    40% {\n",
              "      border-color: transparent;\n",
              "      border-right-color: var(--fill-color);\n",
              "      border-top-color: var(--fill-color);\n",
              "    }\n",
              "    60% {\n",
              "      border-color: transparent;\n",
              "      border-right-color: var(--fill-color);\n",
              "    }\n",
              "    80% {\n",
              "      border-color: transparent;\n",
              "      border-right-color: var(--fill-color);\n",
              "      border-bottom-color: var(--fill-color);\n",
              "    }\n",
              "    90% {\n",
              "      border-color: transparent;\n",
              "      border-bottom-color: var(--fill-color);\n",
              "    }\n",
              "  }\n",
              "</style>\n",
              "\n",
              "  <script>\n",
              "    async function quickchart(key) {\n",
              "      const quickchartButtonEl =\n",
              "        document.querySelector('#' + key + ' button');\n",
              "      quickchartButtonEl.disabled = true;  // To prevent multiple clicks.\n",
              "      quickchartButtonEl.classList.add('colab-df-spinner');\n",
              "      try {\n",
              "        const charts = await google.colab.kernel.invokeFunction(\n",
              "            'suggestCharts', [key], {});\n",
              "      } catch (error) {\n",
              "        console.error('Error during call to suggestCharts:', error);\n",
              "      }\n",
              "      quickchartButtonEl.classList.remove('colab-df-spinner');\n",
              "      quickchartButtonEl.classList.add('colab-df-quickchart-complete');\n",
              "    }\n",
              "    (() => {\n",
              "      let quickchartButtonEl =\n",
              "        document.querySelector('#df-d1f511e9-0c42-40ee-8313-da164b6062f4 button');\n",
              "      quickchartButtonEl.style.display =\n",
              "        google.colab.kernel.accessAllowed ? 'block' : 'none';\n",
              "    })();\n",
              "  </script>\n",
              "</div>\n",
              "    </div>\n",
              "  </div>\n"
            ]
          },
          "metadata": {},
          "execution_count": 4
        }
      ]
    },
    {
      "cell_type": "code",
      "source": [
        "# extract only one electrode (Here, let's extract P7)\n",
        "\n",
        "filtered_df = df_demo[(df_demo[\"time\"] >= 150) & (df_demo[\"time\"] <= 250)]\n",
        "\n",
        "demo_data_real_P8_smile1 = filtered_df[\"smile1_P8\"]\n",
        "demo_data_real_P8_smile3 = filtered_df[\"smile3_P8\"]\n",
        "\n",
        "demo_cond1 = demo_data_real_P8_smile1.to_list()\n",
        "demo_cond2 = demo_data_real_P8_smile3.to_list()"
      ],
      "metadata": {
        "id": "113fThkgnLt5"
      },
      "execution_count": 19,
      "outputs": []
    },
    {
      "cell_type": "code",
      "source": [
        "demo_data_real_P8_smile1.head()\n",
        "demo_cond1\n",
        "\n",
        "import matplotlib.pyplot as plt\n",
        "plt.plot(np.arange(150, 250, 4), demo_cond1)\n",
        "plt.plot(np.arange(150, 250, 4), demo_cond2)"
      ],
      "metadata": {
        "colab": {
          "base_uri": "https://localhost:8080/",
          "height": 447
        },
        "id": "_HlXfpjzozn1",
        "outputId": "81d2cf7c-a1fd-41ec-c142-d5c5536e6713"
      },
      "execution_count": 29,
      "outputs": [
        {
          "output_type": "execute_result",
          "data": {
            "text/plain": [
              "[<matplotlib.lines.Line2D at 0x7b77739e6c20>]"
            ]
          },
          "metadata": {},
          "execution_count": 29
        },
        {
          "output_type": "display_data",
          "data": {
            "text/plain": [
              "<Figure size 640x480 with 1 Axes>"
            ],
            "image/png": "[encoded data removed]"
          },
          "metadata": {}
        }
      ]
    },
    {
      "cell_type": "code",
      "source": [
        "list_list1 = []\n",
        "list_list2 = []\n",
        "\n",
        "for n in range(10):\n",
        "  sublist_1 = []\n",
        "  sublist_2 = []\n",
        "  for a, b in zip(demo_cond1, demo_cond2):\n",
        "    num_1 = a + np.random.rand(1)\n",
        "    num_2 = b + np.random.rand(1)\n",
        "    sublist_1.append(num_1)\n",
        "    sublist_2.append(num_2)\n",
        "  list_list1.append(sublist_1)\n",
        "  list_list2.append(sublist_2)\n",
        "\n",
        "condition_1_demo_data = np.array(list_list1)\n",
        "condition_2_demo_data = np.array(list_list2)\n",
        "\n",
        "condition_1_demo_data"
      ],
      "metadata": {
        "id": "kne2lAuIresf"
      },
      "execution_count": null,
      "outputs": []
    },
    {
      "cell_type": "code",
      "source": [
        "# shape(10=N of participants * time_series)\n",
        "demo_cond1 = demo_data_real_P8_smile1.to_list()\n",
        "demo_cond2 = demo_data_real_P8_smile3.to_list()\n",
        "\n",
        "condition_1_demo_data_real =\n",
        "condition_2_demo_data_real =\n",
        "\n",
        "print(condition_1_demo_data_real[:3, :5])\n",
        "print(condition_2_demo_data_real[:3, :5])"
      ],
      "metadata": {
        "id": "VnOJhrKdoy6h"
      },
      "execution_count": null,
      "outputs": []
    },
    {
      "cell_type": "markdown",
      "source": [
        "## Real data\n"
      ],
      "metadata": {
        "id": "1FraUrPD0FqM"
      }
    },
    {
      "cell_type": "markdown",
      "source": [
        "# ここのコード作成中！！！ ***********"
      ],
      "metadata": {
        "id": "IY2GhVtb4DWa"
      }
    },
    {
      "cell_type": "code",
      "source": [
        "# Import each participant's csv (time * electrode) and add it to df_list (list of data frame)\n",
        "\n",
        "df_list = []\n",
        "\n",
        "for n in par_num:\n",
        "  df[n] = pd.read_csv(\"\")\n",
        "  df_list.append(df[n])\n",
        "\n",
        "# Now have a df_list that contains df (time * electrode) for each participant. For future use, I save it using pickle.\n",
        "import pickle\n",
        "\n",
        "with open('my_list.pkl', 'wb') as file:\n",
        "    pickle.dump(df_list, file)\n",
        "\n",
        "# To open it ... (maybe loaded df_list should be renamed as df_list)\n",
        "with open('my_list.pkl', 'rb') as file:\n",
        "    loaded_df_list = pickle.load(file)\n",
        "\n",
        "# Extract specific time_range\n",
        "\n",
        "cond1_list = []\n",
        "cond2_list = []\n",
        "\n",
        "t_min = 150\n",
        "t_max = 250\n",
        "\n",
        "for par in df_list:\n",
        "  filtered_df = df_ttt[(df_ttt[\"time\"] >= t_min) & (df_ttt[\"time\"] <= t_max)]\n",
        "\n",
        "  # Electrode & condition\n",
        "  cond1_par = filtered_df[\"smile1_P8\"].to_list\n",
        "  cond2_par = filtered_df[\"smile3_P8\"].to_list\n",
        "\n",
        "  # Add this participant list to grand_list (containing all participants' list)\n",
        "  cond1_list.append(cond1_par)\n",
        "  cond2_list.append(cond2_par)\n",
        "\n",
        "# Now, cond1_list is a list of list (i.e., 2d) and its shape is (participant, time point) for condition 1"
      ],
      "metadata": {
        "id": "DiuRLz360DVD"
      },
      "execution_count": null,
      "outputs": []
    },
    {
      "cell_type": "markdown",
      "source": [
        "# MNE python"
      ],
      "metadata": {
        "id": "V5kXl0-d5ZrB"
      }
    },
    {
      "cell_type": "markdown",
      "source": [
        "https://mne.tools/stable/generated/mne.stats.permutation_cluster_1samp_test.html"
      ],
      "metadata": {
        "id": "4AVGnFX9hdiF"
      }
    },
    {
      "cell_type": "code",
      "source": [
        "# Xは、(n_observation, time_series)の型。The first dimension should correspond to the difference between paired samples (observations) in two conditions.\n",
        "X = condition_1_demo_data - condition_2_demo_data"
      ],
      "metadata": {
        "id": "fEplLEp0hwiI"
      },
      "execution_count": 39,
      "outputs": []
    },
    {
      "cell_type": "code",
      "source": [
        "print(X)"
      ],
      "metadata": {
        "id": "deMGRLViixk-"
      },
      "execution_count": null,
      "outputs": []
    },
    {
      "cell_type": "code",
      "source": [
        "from scipy import stats\n",
        "\n",
        "statistic = []\n",
        "pvalue = []\n",
        "\n",
        "for time_point in np.arange(150, 250, 4):\n",
        "  statistic, pvalue = stats.ttest_rel(condition_1_demo_data, condition_2_demo_data)\n",
        "\n",
        "\n",
        "fig, (ax1, ax2) = plt.subplots(2,1, sharex = True)\n",
        "ax1.plot(np.arange(150, 250, 4), statistic)\n",
        "ax1.set_title(\"t value\", fontweight = \"bold\")\n",
        "\n",
        "ax2.plot(np.arange(150, 250, 4), pvalue)\n",
        "ax2.set_ylim(0, 1)\n",
        "ax2.set_title(\"p value\", fontweight = \"bold\")\n",
        "ax2.set_xlabel('time')"
      ],
      "metadata": {
        "colab": {
          "base_uri": "https://localhost:8080/",
          "height": 489
        },
        "id": "Qe16ejJy89FU",
        "outputId": "6776cd10-171f-47c1-b063-b7b41b712d7d"
      },
      "execution_count": 60,
      "outputs": [
        {
          "output_type": "execute_result",
          "data": {
            "text/plain": [
              "Text(0.5, 0, 'time')"
            ]
          },
          "metadata": {},
          "execution_count": 60
        },
        {
          "output_type": "display_data",
          "data": {
            "text/plain": [
              "<Figure size 640x480 with 2 Axes>"
            ],
            "image/png": "[encoded data removed]"
          },
          "metadata": {}
        }
      ]
    },
    {
      "cell_type": "code",
      "source": [
        "t_obs, clusters, cluster_pv, H0 = mne.stats.permutation_cluster_1samp_test(X, n_permutations=10)"
      ],
      "metadata": {
        "colab": {
          "base_uri": "https://localhost:8080/",
          "height": 118,
          "referenced_widgets": [
            "c9c23a36ef07427494b03e48fa5edcc3",
            "dae86bca64bc484b9c6ab293a62fbee6",
            "d22d9b814b344e2caea7c60863ec03c1",
            "52a307cd5db547a28def2c696591e78c",
            "281b5b65f88c4daab602121a80dd5050",
            "27205b5b57334e12a2b8ccda029494d9",
            "e6e9f5327080400b8e73e6988402fcb0",
            "de42464c02684c5f90fda23d2da0debe",
            "64ce946ae47e41839ea86c84d4366742",
            "6c8bf4234b17464b9bff1d4a5cff66a1",
            "85a70ec5976a4c2b96596d56bf20ca0d"
          ]
        },
        "id": "sF_613sP5avS",
        "outputId": "6703abdd-3ea4-4208-c1aa-83f6132525f2"
      },
      "execution_count": 41,
      "outputs": [
        {
          "output_type": "stream",
          "name": "stdout",
          "text": [
            "Using a threshold of 2.262157\n",
            "stat_fun(H1): min=-1.677139 max=11.579225\n",
            "Running initial clustering …\n",
            "Found 1 cluster\n"
          ]
        },
        {
          "output_type": "display_data",
          "data": {
            "text/plain": [
              "  0%|          | Permuting : 0/9 [00:00<?,       ?it/s]"
            ],
            "application/vnd.jupyter.widget-view+json": {
              "version_major": 2,
              "version_minor": 0,
              "model_id": "c9c23a36ef07427494b03e48fa5edcc3"
            }
          },
          "metadata": {}
        }
      ]
    },
    {
      "cell_type": "markdown",
      "source": [
        "## Visualization"
      ],
      "metadata": {
        "id": "q9aRam5Eyj7f"
      }
    },
    {
      "cell_type": "code",
      "source": [
        "print(t_obs)\n",
        "print(clusters)\n",
        "print(cluster_pv)\n",
        "print(H0)\n",
        "\n",
        "import matplotlib.pyplot as plt\n",
        "plt.plot(np.arange(150, 250, 4), t_obs)\n",
        "plt.title(\"t_obs\")\n",
        "plt.xlabel(\"time\")"
      ],
      "metadata": {
        "colab": {
          "base_uri": "https://localhost:8080/",
          "height": 1000
        },
        "id": "myOB-Ec9jGbk",
        "outputId": "0ad5bd0d-9167-4a66-e7d0-531a8d9904f5"
      },
      "execution_count": 49,
      "outputs": [
        {
          "output_type": "stream",
          "name": "stdout",
          "text": [
            "[[-1.67713916]\n",
            " [-0.38019622]\n",
            " [-1.01239552]\n",
            " [ 1.88212384]\n",
            " [-0.54175794]\n",
            " [ 0.7887397 ]\n",
            " [ 3.04739957]\n",
            " [ 2.88868544]\n",
            " [ 4.49052739]\n",
            " [ 5.71186632]\n",
            " [ 3.50283627]\n",
            " [11.57922493]\n",
            " [ 4.08106734]\n",
            " [ 4.24106056]\n",
            " [ 4.34270886]\n",
            " [ 2.30033891]\n",
            " [ 2.56258841]\n",
            " [ 3.55787095]\n",
            " [ 4.54297634]\n",
            " [ 4.75595295]\n",
            " [ 4.49399981]\n",
            " [ 2.46509117]\n",
            " [ 4.12842183]\n",
            " [ 3.33679682]\n",
            " [ 2.14369053]]\n",
            "[(array([ 6,  7,  8,  9, 10, 11, 12, 13, 14, 15, 16, 17, 18, 19, 20, 21, 22,\n",
            "       23]), array([0, 0, 0, 0, 0, 0, 0, 0, 0, 0, 0, 0, 0, 0, 0, 0, 0, 0]))]\n",
            "[0.1]\n",
            "[76.02941386  0.          0.          0.         -2.80377654 -3.02411107\n",
            "  2.51000276 -2.47092578 -2.91349553  0.        ]\n"
          ]
        },
        {
          "output_type": "execute_result",
          "data": {
            "text/plain": [
              "Text(0.5, 0, 'time')"
            ]
          },
          "metadata": {},
          "execution_count": 49
        },
        {
          "output_type": "display_data",
          "data": {
            "text/plain": [
              "<Figure size 640x480 with 1 Axes>"
            ],
            "image/png": "[encoded data removed]"
          },
          "metadata": {}
        }
      ]
    },
    {
      "cell_type": "code",
      "source": [
        "print(cluster_pv)"
      ],
      "metadata": {
        "colab": {
          "base_uri": "https://localhost:8080/"
        },
        "id": "mQU9fHEgzRx0",
        "outputId": "811dbd2b-fa8f-45a7-e387-5b9c3a3aebf4"
      },
      "execution_count": 46,
      "outputs": [
        {
          "output_type": "stream",
          "name": "stdout",
          "text": [
            "[0.1]\n"
          ]
        }
      ]
    },
    {
      "cell_type": "code",
      "source": [
        "# Assuming p_values is a list of p-values\n",
        "plt.hist(cluster_pv, bins=20)\n",
        "plt.xlabel('P-values')\n",
        "plt.ylabel('Frequency')\n",
        "plt.title('Distribution of P-values')\n",
        "plt.show()"
      ],
      "metadata": {
        "colab": {
          "base_uri": "https://localhost:8080/",
          "height": 472
        },
        "id": "STkbnPep8h36",
        "outputId": "67c5df0d-83a9-4220-cbcc-62e6df3b71f0"
      },
      "execution_count": 43,
      "outputs": [
        {
          "output_type": "display_data",
          "data": {
            "text/plain": [
              "<Figure size 640x480 with 1 Axes>"
            ],
            "image/png": "[encoded data removed]"
          },
          "metadata": {}
        }
      ]
    },
    {
      "cell_type": "code",
      "source": [],
      "metadata": {
        "id": "JZSi17Qax-Ln"
      },
      "execution_count": null,
      "outputs": []
    }
  ]
}